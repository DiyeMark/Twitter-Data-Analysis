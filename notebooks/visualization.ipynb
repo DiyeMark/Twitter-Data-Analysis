{
 "cells": [
  {
   "cell_type": "code",
   "execution_count": 2,
   "outputs": [],
   "source": [
    "import pandas as pd\n",
    "import matplotlib.pyplot as plt\n",
    "import seaborn as sns"
   ],
   "metadata": {
    "collapsed": false,
    "pycharm": {
     "name": "#%%\n"
    }
   }
  },
  {
   "cell_type": "code",
   "execution_count": 4,
   "outputs": [],
   "source": [
    "data = pd.read_csv(\"../data/clean_tweet_data.csv\")"
   ],
   "metadata": {
    "collapsed": false,
    "pycharm": {
     "name": "#%%\n"
    }
   }
  },
  {
   "cell_type": "code",
   "execution_count": 5,
   "outputs": [
    {
     "name": "stdout",
     "output_type": "stream",
     "text": [
      "Count of columns in the data is:   15174\n",
      "Count of rows in the data is:   21\n"
     ]
    }
   ],
   "source": [
    "print('Count of columns in the data is:  ', data.shape[0])\n",
    "print('Count of rows in the data is:  ', data.shape[1])"
   ],
   "metadata": {
    "collapsed": false,
    "pycharm": {
     "name": "#%%\n"
    }
   }
  },
  {
   "cell_type": "code",
   "execution_count": 6,
   "outputs": [
    {
     "data": {
      "text/plain": "['Unnamed: 0',\n 'created_at',\n 'status',\n 'source',\n 'original_text',\n 'clean_text',\n 'sentiment',\n 'polarity',\n 'subjectivity',\n 'lang',\n 'favorite_count',\n 'retweet_count',\n 'original_author',\n 'screen_count',\n 'followers_count',\n 'friends_count',\n 'possibly_sensitive',\n 'hashtags',\n 'user_mentions',\n 'place',\n 'place_coord_boundaries']"
     },
     "execution_count": 6,
     "metadata": {},
     "output_type": "execute_result"
    }
   ],
   "source": [
    "list(data.columns)"
   ],
   "metadata": {
    "collapsed": false,
    "pycharm": {
     "name": "#%%\n"
    }
   }
  },
  {
   "cell_type": "code",
   "execution_count": 7,
   "outputs": [
    {
     "data": {
      "text/plain": "                 Unnamed: 0  created_at  status  source  original_text  \\\noriginal_author                                                          \nzaizaiUmar               50          50      50      50             50   \nBirchGold                50          50      50      50             50   \nGETAnalysis              50          50      50      50             50   \nLondonwanderer2          50          50      50      50             50   \nMaatWes                  50          50      50      50             50   \n...                     ...         ...     ...     ...            ...   \nZeeOdisha                 1           1       1       1              1   \nTNNavbharat               1           1       1       1              1   \nTamilsToday               1           1       1       1              1   \nsarahtran1240             1           1       1       1              1   \nnews7tamil                1           1       1       1              1   \n\n                 clean_text  sentiment  polarity  subjectivity  lang  \\\noriginal_author                                                        \nzaizaiUmar               50         50        50            50    50   \nBirchGold                50         50        50            50    50   \nGETAnalysis              50         50        50            50    50   \nLondonwanderer2          50         50        50            50    50   \nMaatWes                  50         50        50            50    50   \n...                     ...        ...       ...           ...   ...   \nZeeOdisha                 1          1         1             1     1   \nTNNavbharat               1          1         1             1     1   \nTamilsToday               1          1         1             1     1   \nsarahtran1240             1          1         1             1     1   \nnews7tamil                1          1         1             1     1   \n\n                 favorite_count  retweet_count  screen_count  followers_count  \\\noriginal_author                                                                 \nzaizaiUmar                   50             50            50               50   \nBirchGold                    50             50            50               50   \nGETAnalysis                  50             50            50               50   \nLondonwanderer2              50             50            50               50   \nMaatWes                      50             50            50               50   \n...                         ...            ...           ...              ...   \nZeeOdisha                     1              1             1                1   \nTNNavbharat                   1              1             1                1   \nTamilsToday                   1              1             1                1   \nsarahtran1240                 1              1             1                1   \nnews7tamil                    1              1             1                1   \n\n                 friends_count  possibly_sensitive  hashtags  user_mentions  \\\noriginal_author                                                               \nzaizaiUmar                  50                  36        22             29   \nBirchGold                   50                  50        50              0   \nGETAnalysis                 50                  48        41              1   \nLondonwanderer2             50                  20        30             43   \nMaatWes                     50                   7         9             50   \n...                        ...                 ...       ...            ...   \nZeeOdisha                    1                   1         1              0   \nTNNavbharat                  1                   0         1              1   \nTamilsToday                  1                   1         1              1   \nsarahtran1240                1                   0         1              0   \nnews7tamil                   1                   1         1              0   \n\n                 place  place_coord_boundaries  \noriginal_author                                 \nzaizaiUmar          50                       0  \nBirchGold           50                       0  \nGETAnalysis         50                       0  \nLondonwanderer2      0                       0  \nMaatWes              0                       0  \n...                ...                     ...  \nZeeOdisha            1                       0  \nTNNavbharat          1                       0  \nTamilsToday          0                       0  \nsarahtran1240        0                       0  \nnews7tamil           1                       0  \n\n[461 rows x 20 columns]",
      "text/html": "<div>\n<style scoped>\n    .dataframe tbody tr th:only-of-type {\n        vertical-align: middle;\n    }\n\n    .dataframe tbody tr th {\n        vertical-align: top;\n    }\n\n    .dataframe thead th {\n        text-align: right;\n    }\n</style>\n<table border=\"1\" class=\"dataframe\">\n  <thead>\n    <tr style=\"text-align: right;\">\n      <th></th>\n      <th>Unnamed: 0</th>\n      <th>created_at</th>\n      <th>status</th>\n      <th>source</th>\n      <th>original_text</th>\n      <th>clean_text</th>\n      <th>sentiment</th>\n      <th>polarity</th>\n      <th>subjectivity</th>\n      <th>lang</th>\n      <th>favorite_count</th>\n      <th>retweet_count</th>\n      <th>screen_count</th>\n      <th>followers_count</th>\n      <th>friends_count</th>\n      <th>possibly_sensitive</th>\n      <th>hashtags</th>\n      <th>user_mentions</th>\n      <th>place</th>\n      <th>place_coord_boundaries</th>\n    </tr>\n    <tr>\n      <th>original_author</th>\n      <th></th>\n      <th></th>\n      <th></th>\n      <th></th>\n      <th></th>\n      <th></th>\n      <th></th>\n      <th></th>\n      <th></th>\n      <th></th>\n      <th></th>\n      <th></th>\n      <th></th>\n      <th></th>\n      <th></th>\n      <th></th>\n      <th></th>\n      <th></th>\n      <th></th>\n      <th></th>\n    </tr>\n  </thead>\n  <tbody>\n    <tr>\n      <th>zaizaiUmar</th>\n      <td>50</td>\n      <td>50</td>\n      <td>50</td>\n      <td>50</td>\n      <td>50</td>\n      <td>50</td>\n      <td>50</td>\n      <td>50</td>\n      <td>50</td>\n      <td>50</td>\n      <td>50</td>\n      <td>50</td>\n      <td>50</td>\n      <td>50</td>\n      <td>50</td>\n      <td>36</td>\n      <td>22</td>\n      <td>29</td>\n      <td>50</td>\n      <td>0</td>\n    </tr>\n    <tr>\n      <th>BirchGold</th>\n      <td>50</td>\n      <td>50</td>\n      <td>50</td>\n      <td>50</td>\n      <td>50</td>\n      <td>50</td>\n      <td>50</td>\n      <td>50</td>\n      <td>50</td>\n      <td>50</td>\n      <td>50</td>\n      <td>50</td>\n      <td>50</td>\n      <td>50</td>\n      <td>50</td>\n      <td>50</td>\n      <td>50</td>\n      <td>0</td>\n      <td>50</td>\n      <td>0</td>\n    </tr>\n    <tr>\n      <th>GETAnalysis</th>\n      <td>50</td>\n      <td>50</td>\n      <td>50</td>\n      <td>50</td>\n      <td>50</td>\n      <td>50</td>\n      <td>50</td>\n      <td>50</td>\n      <td>50</td>\n      <td>50</td>\n      <td>50</td>\n      <td>50</td>\n      <td>50</td>\n      <td>50</td>\n      <td>50</td>\n      <td>48</td>\n      <td>41</td>\n      <td>1</td>\n      <td>50</td>\n      <td>0</td>\n    </tr>\n    <tr>\n      <th>Londonwanderer2</th>\n      <td>50</td>\n      <td>50</td>\n      <td>50</td>\n      <td>50</td>\n      <td>50</td>\n      <td>50</td>\n      <td>50</td>\n      <td>50</td>\n      <td>50</td>\n      <td>50</td>\n      <td>50</td>\n      <td>50</td>\n      <td>50</td>\n      <td>50</td>\n      <td>50</td>\n      <td>20</td>\n      <td>30</td>\n      <td>43</td>\n      <td>0</td>\n      <td>0</td>\n    </tr>\n    <tr>\n      <th>MaatWes</th>\n      <td>50</td>\n      <td>50</td>\n      <td>50</td>\n      <td>50</td>\n      <td>50</td>\n      <td>50</td>\n      <td>50</td>\n      <td>50</td>\n      <td>50</td>\n      <td>50</td>\n      <td>50</td>\n      <td>50</td>\n      <td>50</td>\n      <td>50</td>\n      <td>50</td>\n      <td>7</td>\n      <td>9</td>\n      <td>50</td>\n      <td>0</td>\n      <td>0</td>\n    </tr>\n    <tr>\n      <th>...</th>\n      <td>...</td>\n      <td>...</td>\n      <td>...</td>\n      <td>...</td>\n      <td>...</td>\n      <td>...</td>\n      <td>...</td>\n      <td>...</td>\n      <td>...</td>\n      <td>...</td>\n      <td>...</td>\n      <td>...</td>\n      <td>...</td>\n      <td>...</td>\n      <td>...</td>\n      <td>...</td>\n      <td>...</td>\n      <td>...</td>\n      <td>...</td>\n      <td>...</td>\n    </tr>\n    <tr>\n      <th>ZeeOdisha</th>\n      <td>1</td>\n      <td>1</td>\n      <td>1</td>\n      <td>1</td>\n      <td>1</td>\n      <td>1</td>\n      <td>1</td>\n      <td>1</td>\n      <td>1</td>\n      <td>1</td>\n      <td>1</td>\n      <td>1</td>\n      <td>1</td>\n      <td>1</td>\n      <td>1</td>\n      <td>1</td>\n      <td>1</td>\n      <td>0</td>\n      <td>1</td>\n      <td>0</td>\n    </tr>\n    <tr>\n      <th>TNNavbharat</th>\n      <td>1</td>\n      <td>1</td>\n      <td>1</td>\n      <td>1</td>\n      <td>1</td>\n      <td>1</td>\n      <td>1</td>\n      <td>1</td>\n      <td>1</td>\n      <td>1</td>\n      <td>1</td>\n      <td>1</td>\n      <td>1</td>\n      <td>1</td>\n      <td>1</td>\n      <td>0</td>\n      <td>1</td>\n      <td>1</td>\n      <td>1</td>\n      <td>0</td>\n    </tr>\n    <tr>\n      <th>TamilsToday</th>\n      <td>1</td>\n      <td>1</td>\n      <td>1</td>\n      <td>1</td>\n      <td>1</td>\n      <td>1</td>\n      <td>1</td>\n      <td>1</td>\n      <td>1</td>\n      <td>1</td>\n      <td>1</td>\n      <td>1</td>\n      <td>1</td>\n      <td>1</td>\n      <td>1</td>\n      <td>1</td>\n      <td>1</td>\n      <td>1</td>\n      <td>0</td>\n      <td>0</td>\n    </tr>\n    <tr>\n      <th>sarahtran1240</th>\n      <td>1</td>\n      <td>1</td>\n      <td>1</td>\n      <td>1</td>\n      <td>1</td>\n      <td>1</td>\n      <td>1</td>\n      <td>1</td>\n      <td>1</td>\n      <td>1</td>\n      <td>1</td>\n      <td>1</td>\n      <td>1</td>\n      <td>1</td>\n      <td>1</td>\n      <td>0</td>\n      <td>1</td>\n      <td>0</td>\n      <td>0</td>\n      <td>0</td>\n    </tr>\n    <tr>\n      <th>news7tamil</th>\n      <td>1</td>\n      <td>1</td>\n      <td>1</td>\n      <td>1</td>\n      <td>1</td>\n      <td>1</td>\n      <td>1</td>\n      <td>1</td>\n      <td>1</td>\n      <td>1</td>\n      <td>1</td>\n      <td>1</td>\n      <td>1</td>\n      <td>1</td>\n      <td>1</td>\n      <td>1</td>\n      <td>1</td>\n      <td>0</td>\n      <td>1</td>\n      <td>0</td>\n    </tr>\n  </tbody>\n</table>\n<p>461 rows × 20 columns</p>\n</div>"
     },
     "execution_count": 7,
     "metadata": {},
     "output_type": "execute_result"
    }
   ],
   "source": [
    "data.groupby([\"original_author\"]).count().sort_values(\"original_text\", ascending=False)"
   ],
   "metadata": {
    "collapsed": false,
    "pycharm": {
     "name": "#%%\n"
    }
   }
  },
  {
   "cell_type": "code",
   "execution_count": 8,
   "outputs": [
    {
     "data": {
      "text/plain": "           clean_text\nsentiment            \n-1               6951\n 0               2445\n 1               5754",
      "text/html": "<div>\n<style scoped>\n    .dataframe tbody tr th:only-of-type {\n        vertical-align: middle;\n    }\n\n    .dataframe tbody tr th {\n        vertical-align: top;\n    }\n\n    .dataframe thead th {\n        text-align: right;\n    }\n</style>\n<table border=\"1\" class=\"dataframe\">\n  <thead>\n    <tr style=\"text-align: right;\">\n      <th></th>\n      <th>clean_text</th>\n    </tr>\n    <tr>\n      <th>sentiment</th>\n      <th></th>\n    </tr>\n  </thead>\n  <tbody>\n    <tr>\n      <th>-1</th>\n      <td>6951</td>\n    </tr>\n    <tr>\n      <th>0</th>\n      <td>2445</td>\n    </tr>\n    <tr>\n      <th>1</th>\n      <td>5754</td>\n    </tr>\n  </tbody>\n</table>\n</div>"
     },
     "execution_count": 8,
     "metadata": {},
     "output_type": "execute_result"
    }
   ],
   "source": [
    "data[[\"clean_text\", \"sentiment\"]].groupby([\"sentiment\"]).count()"
   ],
   "metadata": {
    "collapsed": false,
    "pycharm": {
     "name": "#%%\n"
    }
   }
  },
  {
   "cell_type": "code",
   "execution_count": 9,
   "outputs": [
    {
     "data": {
      "text/plain": "                                          clean_text  sentiment\n0  RT the year yield be tell we that there be a h...          1\n1  RT German mortgage rate go from to can you hea...          1\n2  RT rate rise until something break be anything...          0\n3  RT buy opportunity like this only occur every ...          0\n4  RT welcome to September bond market test what ...          1",
      "text/html": "<div>\n<style scoped>\n    .dataframe tbody tr th:only-of-type {\n        vertical-align: middle;\n    }\n\n    .dataframe tbody tr th {\n        vertical-align: top;\n    }\n\n    .dataframe thead th {\n        text-align: right;\n    }\n</style>\n<table border=\"1\" class=\"dataframe\">\n  <thead>\n    <tr style=\"text-align: right;\">\n      <th></th>\n      <th>clean_text</th>\n      <th>sentiment</th>\n    </tr>\n  </thead>\n  <tbody>\n    <tr>\n      <th>0</th>\n      <td>RT the year yield be tell we that there be a h...</td>\n      <td>1</td>\n    </tr>\n    <tr>\n      <th>1</th>\n      <td>RT German mortgage rate go from to can you hea...</td>\n      <td>1</td>\n    </tr>\n    <tr>\n      <th>2</th>\n      <td>RT rate rise until something break be anything...</td>\n      <td>0</td>\n    </tr>\n    <tr>\n      <th>3</th>\n      <td>RT buy opportunity like this only occur every ...</td>\n      <td>0</td>\n    </tr>\n    <tr>\n      <th>4</th>\n      <td>RT welcome to September bond market test what ...</td>\n      <td>1</td>\n    </tr>\n  </tbody>\n</table>\n</div>"
     },
     "execution_count": 9,
     "metadata": {},
     "output_type": "execute_result"
    }
   ],
   "source": [
    "df_pos_neg = data.loc[(data[\"sentiment\"] == 1) | (data[\"sentiment\"] == 0)][[\"clean_text\", \"sentiment\"]]\n",
    "df_pos_neg.reset_index(drop=True, inplace=True)\n",
    "df_pos_neg.head()"
   ],
   "metadata": {
    "collapsed": false,
    "pycharm": {
     "name": "#%%\n"
    }
   }
  },
  {
   "cell_type": "code",
   "execution_count": 10,
   "outputs": [
    {
     "data": {
      "text/plain": "<Figure size 432x288 with 1 Axes>",
      "image/png": "[encoded data removed]"
     },
     "metadata": {},
     "output_type": "display_data"
    }
   ],
   "source": [
    "plt.pie(df_pos_neg.groupby([\"sentiment\"]).size(), labels=[\"Negative\", \"Positive\"], autopct='%.0f%%')\n",
    "plt.show()"
   ],
   "metadata": {
    "collapsed": false,
    "pycharm": {
     "name": "#%%\n"
    }
   }
  }
 ],
 "metadata": {
  "kernelspec": {
   "display_name": "Python 3",
   "language": "python",
   "name": "python3"
  },
  "language_info": {
   "codemirror_mode": {
    "name": "ipython",
    "version": 2
   },
   "file_extension": ".py",
   "mimetype": "text/x-python",
   "name": "python",
   "nbconvert_exporter": "python",
   "pygments_lexer": "ipython2",
   "version": "2.7.6"
  }
 },
 "nbformat": 4,
 "nbformat_minor": 0
}